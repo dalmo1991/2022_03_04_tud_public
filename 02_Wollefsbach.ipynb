{
 "cells": [
  {
   "cell_type": "markdown",
   "metadata": {},
   "source": [
    "# Wollefsbach catchment"
   ]
  },
  {
   "cell_type": "markdown",
   "metadata": {},
   "source": [
    "## Data preparation\n",
    "\n",
    "We load the data from the `data` folder. We then cut them to the period of interest."
   ]
  },
  {
   "cell_type": "code",
   "execution_count": null,
   "metadata": {},
   "outputs": [],
   "source": [
    "import pandas as pd\n",
    "import matplotlib.pyplot as plt\n",
    "%matplotlib qt\n",
    "MARKERS_PROP = {'lw': 0, 'marker': 'o', 'color': 'black', 'markerfacecolor': 'none', 'markersize': 4}"
   ]
  },
  {
   "cell_type": "code",
   "execution_count": null,
   "metadata": {},
   "outputs": [],
   "source": [
    "data = pd.read_csv('data/Wollefsbach.csv')\n",
    "data.set_index(pd.to_datetime((data.year*10000+data.month*100+data.day).apply(str),format='%Y%m%d'), inplace=True)\n",
    "data.drop(columns=['year', 'month', 'day'], inplace=True)\n",
    "data.head()"
   ]
  },
  {
   "cell_type": "code",
   "execution_count": null,
   "metadata": {},
   "outputs": [],
   "source": [
    "ax = data['Q(mm/d)'].plot(figsize=(10, 7))\n",
    "ax.set_xlabel('Date')\n",
    "ax.set_ylabel('Streamflow [mm/d]')\n",
    "ax.set_ylim((0, ax.get_ylim()[1]))\n",
    "ax.grid(True)"
   ]
  },
  {
   "cell_type": "code",
   "execution_count": null,
   "metadata": {},
   "outputs": [],
   "source": [
    "START_SIMULATE = 0\n",
    "START_VISUALIZE = 395 # Relative to START_SIMULATE\n",
    "END_SIMULATE = 1124 # Absolute\n",
    "\n",
    "P = data['P(mm/d)'].values[START_SIMULATE:END_SIMULATE]\n",
    "E = data['E(mm/d)'].values[START_SIMULATE:END_SIMULATE]\n",
    "Q_obs = data['Q(mm/d)'].values[START_SIMULATE:END_SIMULATE]\n",
    "index = data.index[START_SIMULATE:END_SIMULATE]"
   ]
  },
  {
   "cell_type": "markdown",
   "metadata": {},
   "source": [
    "## Model M01\n",
    "### Initialization\n",
    "\n",
    "We load the model and set inputs and time step. Calibrated parameters are contained in the dictionary `PARAMETERS_WOLLEFSBACH_M01`"
   ]
  },
  {
   "cell_type": "code",
   "execution_count": null,
   "metadata": {},
   "outputs": [],
   "source": [
    "from utils.m01 import m01, PARAMETERS_WOLLEFSBACH_M01\n",
    "\n",
    "m01.set_input([P, E])\n",
    "m01.set_timestep(1.0)"
   ]
  },
  {
   "cell_type": "markdown",
   "metadata": {},
   "source": [
    "### Explore the model\n",
    "\n",
    "We show now some methods that can be used to visualize the model settings and to change them."
   ]
  },
  {
   "cell_type": "code",
   "execution_count": null,
   "metadata": {},
   "outputs": [],
   "source": [
    "print(m01)"
   ]
  },
  {
   "cell_type": "code",
   "execution_count": null,
   "metadata": {},
   "outputs": [],
   "source": [
    "m01.get_parameters()"
   ]
  },
  {
   "cell_type": "code",
   "execution_count": null,
   "metadata": {},
   "outputs": [],
   "source": [
    "m01.get_states()"
   ]
  },
  {
   "cell_type": "code",
   "execution_count": null,
   "metadata": {},
   "outputs": [],
   "source": [
    "m01.set_parameters(PARAMETERS_WOLLEFSBACH_M01)\n",
    "PARAMETERS_WOLLEFSBACH_M01"
   ]
  },
  {
   "cell_type": "code",
   "execution_count": null,
   "metadata": {},
   "outputs": [],
   "source": [
    "m01.get_parameters()"
   ]
  },
  {
   "cell_type": "code",
   "execution_count": null,
   "metadata": {},
   "outputs": [],
   "source": [
    "m01.set_states({'m01_FR_S0': 18.0})\n",
    "m01.get_states()"
   ]
  },
  {
   "cell_type": "code",
   "execution_count": null,
   "metadata": {},
   "outputs": [],
   "source": [
    "m01.reset_states()\n",
    "m01.get_states()"
   ]
  },
  {
   "cell_type": "code",
   "execution_count": null,
   "metadata": {},
   "outputs": [],
   "source": [
    "out = m01.get_output()\n",
    "out"
   ]
  },
  {
   "cell_type": "code",
   "execution_count": null,
   "metadata": {},
   "outputs": [],
   "source": [
    "m01.get_states()"
   ]
  },
  {
   "cell_type": "code",
   "execution_count": null,
   "metadata": {},
   "outputs": [],
   "source": [
    "m01.get_internal(id='FR', attribute='state_array')"
   ]
  },
  {
   "cell_type": "markdown",
   "metadata": {},
   "source": [
    "### Sensibility of the output to the parameters\n",
    "\n",
    "We can use the function `parameters_sensitivity` to explore how the output varies changing the values of the parameters."
   ]
  },
  {
   "cell_type": "code",
   "execution_count": null,
   "metadata": {},
   "outputs": [],
   "source": [
    "from utils.sensitivity import parameters_sensitivity"
   ]
  },
  {
   "cell_type": "code",
   "execution_count": null,
   "metadata": {},
   "outputs": [],
   "source": [
    "fig, ax = parameters_sensitivity(\n",
    "    model=m01,\n",
    "    default_parameters=PARAMETERS_WOLLEFSBACH_M01, \n",
    "    par_name='m01_FR_k', \n",
    "    par_values=[1e-12, 1e-10, 1e-8, 1e-6]\n",
    ")\n",
    "\n",
    "ax.plot(Q_obs, **MARKERS_PROP)"
   ]
  },
  {
   "cell_type": "code",
   "execution_count": null,
   "metadata": {},
   "outputs": [],
   "source": [
    "fig, ax = parameters_sensitivity(\n",
    "    model=m01,\n",
    "    default_parameters=PARAMETERS_WOLLEFSBACH_M01, \n",
    "    par_name='m01_FR_alpha', \n",
    "    par_values=[1.0, 2.0, 3.0, 4.0, 5.0]\n",
    ")\n",
    "\n",
    "ax.plot(Q_obs, **MARKERS_PROP)"
   ]
  },
  {
   "cell_type": "code",
   "execution_count": null,
   "metadata": {},
   "outputs": [],
   "source": [
    "fig, ax = parameters_sensitivity(\n",
    "    model=m01,\n",
    "    default_parameters=PARAMETERS_WOLLEFSBACH_M01, \n",
    "    par_name='m01_FR_Ce', \n",
    "    par_values=[0.5, 0.75, 1.0, 1.25, 1.5]\n",
    ")\n",
    "\n",
    "ax.plot(Q_obs, **MARKERS_PROP)"
   ]
  },
  {
   "cell_type": "markdown",
   "metadata": {},
   "source": [
    "### Plot calibrated results and states\n",
    "\n",
    "We can observe the model behavior with the calibrated parameters. It is possible to call the `set_parameters` method to see how the output changes with different parameters."
   ]
  },
  {
   "cell_type": "code",
   "execution_count": null,
   "metadata": {},
   "outputs": [],
   "source": [
    "m01.reset_states()\n",
    "m01.set_parameters(PARAMETERS_WOLLEFSBACH_M01)\n",
    "output = m01.get_output()[0]\n",
    "state = m01.get_internal('FR', 'state_array').squeeze()\n",
    "aet = m01.call_internal('FR', 'get_AET')[0]"
   ]
  },
  {
   "cell_type": "code",
   "execution_count": null,
   "metadata": {},
   "outputs": [],
   "source": [
    "fig, ax = plt.subplots(3, 1, sharex=True)\n",
    "ax[0].bar(range(len(P)), P)\n",
    "ax[1].plot(output, label='Model output')\n",
    "ax[1].plot(Q_obs, label='Observed', **MARKERS_PROP)\n",
    "ax_bis = ax[1].twinx()\n",
    "ax_bis.plot(state, label='Reservoir state', color='orange')\n",
    "ax[2].plot(aet, label='AET')\n",
    "ax[2].plot(E, label='PET', ls='--')\n",
    "for a in ax:\n",
    "    a.set_xlim((START_SIMULATE, len(P)))\n",
    "    a.legend()\n",
    "    \n",
    "ax[0].set_ylabel('Precipitation [mm/d]')\n",
    "ax[1].set_ylabel('Streamflow [mm/d]')\n",
    "ax_bis.set_ylabel('State [mm]')\n",
    "ax[2].set_ylabel('Evapotranspiration [mm/d]')"
   ]
  },
  {
   "cell_type": "markdown",
   "metadata": {},
   "source": [
    "## Model M02\n",
    "### Initialization"
   ]
  },
  {
   "cell_type": "code",
   "execution_count": null,
   "metadata": {},
   "outputs": [],
   "source": [
    "from utils.m02 import m02, PARAMETERS_WOLLEFSBACH_M02\n",
    "\n",
    "m02.set_input([P, E])\n",
    "m02.set_timestep(1.0)"
   ]
  },
  {
   "cell_type": "markdown",
   "metadata": {},
   "source": [
    "### Explore the model"
   ]
  },
  {
   "cell_type": "code",
   "execution_count": null,
   "metadata": {},
   "outputs": [],
   "source": [
    "print(m02)"
   ]
  },
  {
   "cell_type": "markdown",
   "metadata": {},
   "source": [
    "### Sensibility of the output to the parameters"
   ]
  },
  {
   "cell_type": "code",
   "execution_count": null,
   "metadata": {},
   "outputs": [],
   "source": [
    "PARAMETERS_WOLLEFSBACH_M02"
   ]
  },
  {
   "cell_type": "code",
   "execution_count": null,
   "metadata": {},
   "outputs": [],
   "source": [
    "fig, ax = parameters_sensitivity(\n",
    "    model=m02,\n",
    "    default_parameters=PARAMETERS_WOLLEFSBACH_M02, \n",
    "    par_name='m02_FR_k',\n",
    "    par_values=[1e-5, 1e-3, 1e-1]\n",
    ")\n",
    "\n",
    "ax.plot(Q_obs, **MARKERS_PROP)"
   ]
  },
  {
   "cell_type": "code",
   "execution_count": null,
   "metadata": {},
   "outputs": [],
   "source": [
    "fig, ax = parameters_sensitivity(\n",
    "    model=m02,\n",
    "    default_parameters=PARAMETERS_WOLLEFSBACH_M02, \n",
    "    par_name='m02_UR_Smax', \n",
    "    par_values=[10.0, 100.0, 1000.0]\n",
    ")\n",
    "\n",
    "ax.plot(Q_obs, **MARKERS_PROP)"
   ]
  },
  {
   "cell_type": "markdown",
   "metadata": {},
   "source": [
    "### Plot calibrated results and states"
   ]
  },
  {
   "cell_type": "code",
   "execution_count": null,
   "metadata": {},
   "outputs": [],
   "source": [
    "m02.reset_states()\n",
    "m02.set_parameters(PARAMETERS_WOLLEFSBACH_M02)\n",
    "# m02.set_parameters({'m02_UR_Smax': 1000.0})\n",
    "m02.set_states({'m02_UR_S0': 0.2*m02.get_parameters(['m02_UR_Smax'])['m02_UR_Smax']})\n",
    "output_FR = m02.get_output()[0]\n",
    "state_FR = m02.get_internal('FR', 'state_array').squeeze()\n",
    "output_UR = m02.call_internal('UR', 'get_output', solve=False)[0]\n",
    "state_UR = m02.get_internal('UR', 'state_array').squeeze()\n",
    "aet = m02.call_internal('UR', 'get_AET')[0]"
   ]
  },
  {
   "cell_type": "code",
   "execution_count": null,
   "metadata": {},
   "outputs": [],
   "source": [
    "fig, ax = plt.subplots(4, 1, sharex=True)\n",
    "ax[0].bar(range(len(P)), P)\n",
    "ax[1].plot(output_UR, label='Output UR')\n",
    "ax_bis_1 = ax[1].twinx()\n",
    "ax_bis_1.plot(state_UR, label='State UR', color='orange')\n",
    "ax[2].plot(output_FR, label='Output FR')\n",
    "ax[2].plot(Q_obs, label='Observed', **MARKERS_PROP)\n",
    "ax_bis_2 = ax[2].twinx()\n",
    "ax_bis_2.plot(state_FR, label='State FR', color='orange')\n",
    "ax[3].plot(aet, label='AET')\n",
    "ax[3].plot(E, label='PET', ls='--')\n",
    "for a in ax:\n",
    "    a.set_xlim((START_SIMULATE, len(P)))\n",
    "    a.legend()\n",
    "    \n",
    "ax[0].set_ylabel('Precipitation [mm/d]')\n",
    "ax[1].set_ylabel('Streamflow [mm/d]')\n",
    "ax_bis_1.set_ylabel('State [mm]')\n",
    "ax[2].set_ylabel('Streamflow [mm/d]')\n",
    "ax_bis_2.set_ylabel('State [mm]')\n",
    "ax[3].set_ylabel('Evapotranspiration [mm/d]')"
   ]
  },
  {
   "cell_type": "markdown",
   "metadata": {},
   "source": [
    "## Model M03\n",
    "### Initialization"
   ]
  },
  {
   "cell_type": "code",
   "execution_count": null,
   "metadata": {},
   "outputs": [],
   "source": [
    "from utils.m03 import m03, PARAMETERS_WOLLEFSBACH_M03\n",
    "\n",
    "m03.set_input([P, E])\n",
    "m03.set_timestep(1.0)"
   ]
  },
  {
   "cell_type": "markdown",
   "metadata": {},
   "source": [
    "### Explore the model"
   ]
  },
  {
   "cell_type": "code",
   "execution_count": null,
   "metadata": {},
   "outputs": [],
   "source": [
    "print(m03)"
   ]
  },
  {
   "cell_type": "markdown",
   "metadata": {},
   "source": [
    "### Sensibility of the output to the parameters"
   ]
  },
  {
   "cell_type": "code",
   "execution_count": null,
   "metadata": {},
   "outputs": [],
   "source": [
    "PARAMETERS_WOLLEFSBACH_M03"
   ]
  },
  {
   "cell_type": "code",
   "execution_count": null,
   "metadata": {},
   "outputs": [],
   "source": [
    "fig, ax = parameters_sensitivity(\n",
    "    model=m03,\n",
    "    default_parameters=PARAMETERS_WOLLEFSBACH_M03, \n",
    "    par_name='m03_lag_lag-time', \n",
    "    par_values=[1.0, 5.0, 10.0]\n",
    ")\n",
    "\n",
    "ax.plot(Q_obs, **MARKERS_PROP)"
   ]
  },
  {
   "cell_type": "markdown",
   "metadata": {},
   "source": [
    "### Plot calibrated results and states"
   ]
  },
  {
   "cell_type": "code",
   "execution_count": null,
   "metadata": {},
   "outputs": [],
   "source": [
    "m03.reset_states()\n",
    "m03.set_parameters(PARAMETERS_WOLLEFSBACH_M03)\n",
    "# m03.set_parameters({'m03_lag_lag-time': 5.0})\n",
    "m03.set_states({'m03_UR_S0': 0.2*m03.get_parameters(['m03_UR_Smax'])['m03_UR_Smax']})\n",
    "output_FR = m03.get_output()[0]\n",
    "state_FR = m03.get_internal('FR', 'state_array').squeeze()\n",
    "output_UR = m03.call_internal('UR', 'get_output', solve=False)[0]\n",
    "state_UR = m03.get_internal('UR', 'state_array').squeeze()\n",
    "output_lag = m03.call_internal('lag', 'get_output', solve=False)[0]\n",
    "aet = m03.call_internal('UR', 'get_AET')[0]"
   ]
  },
  {
   "cell_type": "code",
   "execution_count": null,
   "metadata": {},
   "outputs": [],
   "source": [
    "fig, ax = plt.subplots(5, 1, sharex=True)\n",
    "ax[0].bar(range(len(P)), P)\n",
    "ax[1].plot(output_UR, label='Output UR')\n",
    "ax_bis_1 = ax[1].twinx()\n",
    "ax_bis_1.plot(state_UR, label='State UR', color='orange')\n",
    "ax[2].plot(output_UR, label='Input lag')\n",
    "ax[2].plot(output_lag, label='Output lag')\n",
    "ax[3].plot(output_FR, label='Output FR')\n",
    "ax[3].plot(Q_obs, label='Observed', **MARKERS_PROP)\n",
    "ax_bis_2 = ax[3].twinx()\n",
    "ax_bis_2.plot(state_FR, label='State FR', color='orange')\n",
    "ax[4].plot(aet, label='AET')\n",
    "ax[4].plot(E, label='PET', ls='--')\n",
    "for a in ax:\n",
    "    a.set_xlim((START_SIMULATE, len(P)))\n",
    "    a.legend()\n",
    "    \n",
    "ax[0].set_ylabel('Precipitation [mm/d]')\n",
    "ax[1].set_ylabel('Streamflow [mm/d]')\n",
    "ax_bis_1.set_ylabel('State [mm]')\n",
    "ax[3].set_ylabel('Streamflow [mm/d]')\n",
    "ax_bis_2.set_ylabel('State [mm]')\n",
    "ax[4].set_ylabel('Evapotranspiration [mm/d]')"
   ]
  },
  {
   "cell_type": "markdown",
   "metadata": {},
   "source": [
    "## Model M04\n",
    "### Initialization"
   ]
  },
  {
   "cell_type": "code",
   "execution_count": null,
   "metadata": {},
   "outputs": [],
   "source": [
    "from utils.m04 import m04, PARAMETERS_WOLLEFSBACH_M04\n",
    "\n",
    "m04.set_input([P, E])\n",
    "m04.set_timestep(1.0)"
   ]
  },
  {
   "cell_type": "markdown",
   "metadata": {},
   "source": [
    "### Explore the model"
   ]
  },
  {
   "cell_type": "code",
   "execution_count": null,
   "metadata": {},
   "outputs": [],
   "source": [
    "print(m04)"
   ]
  },
  {
   "cell_type": "markdown",
   "metadata": {},
   "source": [
    "### Sensibility of the output to the parameters"
   ]
  },
  {
   "cell_type": "code",
   "execution_count": null,
   "metadata": {},
   "outputs": [],
   "source": [
    "PARAMETERS_WOLLEFSBACH_M04"
   ]
  },
  {
   "cell_type": "code",
   "execution_count": null,
   "metadata": {},
   "outputs": [],
   "source": [
    "fig, ax = parameters_sensitivity(\n",
    "    model=m04,\n",
    "    default_parameters=PARAMETERS_WOLLEFSBACH_M04, \n",
    "    par_name='m04_split_split-par',\n",
    "    par_values=[0, 0.12, 0.5, 1.0]\n",
    ")\n",
    "\n",
    "ax.plot(Q_obs, **MARKERS_PROP)"
   ]
  },
  {
   "cell_type": "markdown",
   "metadata": {},
   "source": [
    "### Plot calibrated results and states"
   ]
  },
  {
   "cell_type": "code",
   "execution_count": null,
   "metadata": {},
   "outputs": [],
   "source": [
    "m04.reset_states()\n",
    "m04.set_parameters(PARAMETERS_WOLLEFSBACH_M04)\n",
    "m04.set_states({'m04_UR_S0': 0.2*m04.get_parameters(['m04_UR_Smax'])['m04_UR_Smax']})\n",
    "output_total = m04.get_output()[0]\n",
    "output_FR = m04.call_internal('FR', 'get_output', solve=False)[0]\n",
    "state_FR = m04.get_internal('FR', 'state_array').squeeze()\n",
    "output_UR = m04.call_internal('UR', 'get_output', solve=False)[0]\n",
    "state_UR = m04.get_internal('UR', 'state_array').squeeze()\n",
    "output_SR = m04.call_internal('SR', 'get_output', solve=False)[0]\n",
    "state_SR = m04.get_internal('SR', 'state_array').squeeze()\n",
    "aet = m04.call_internal('UR', 'get_AET')[0]"
   ]
  },
  {
   "cell_type": "code",
   "execution_count": null,
   "metadata": {},
   "outputs": [],
   "source": [
    "fig, ax = plt.subplots(6, 1, sharex=True)\n",
    "ax[0].bar(range(len(P)), P)\n",
    "ax[1].plot(output_UR, label='Output UR')\n",
    "ax_bis_1 = ax[1].twinx()\n",
    "ax_bis_1.plot(state_UR, label='State UR', color='orange')\n",
    "ax[2].plot(output_SR, label='Output SR')\n",
    "ax_bis_2 = ax[2].twinx()\n",
    "ax_bis_2.plot(state_SR, label='State SR', color='orange')\n",
    "ax[3].plot(output_FR, label='Output FR')\n",
    "ax_bis_3 = ax[3].twinx()\n",
    "ax_bis_3.plot(state_FR, label='State FR', color='orange')\n",
    "ax[4].plot(output_total, label='Output')\n",
    "ax[4].plot(Q_obs, label='Observed', **MARKERS_PROP)\n",
    "ax[5].plot(aet, label='AET')\n",
    "ax[5].plot(E, label='PET', ls='--')\n",
    "\n",
    "for a in ax:\n",
    "    a.set_xlim((START_SIMULATE, len(P)))\n",
    "    a.legend()\n",
    "    \n",
    "ax[0].set_ylabel('Precipitation [mm/d]')\n",
    "ax[1].set_ylabel('Streamflow [mm/d]')\n",
    "ax_bis_1.set_ylabel('State [mm]')\n",
    "ax[2].set_ylabel('Streamflow [mm/d]')\n",
    "ax_bis_2.set_ylabel('State [mm]')\n",
    "ax[3].set_ylabel('Streamflow [mm/d]')\n",
    "ax_bis_3.set_ylabel('State [mm]')\n",
    "ax[4].set_ylabel('Streamflow [mm/d]')\n",
    "ax[5].set_ylabel('Evapotranspiration [mm/d]')"
   ]
  },
  {
   "cell_type": "markdown",
   "metadata": {},
   "source": [
    "## Compare different models"
   ]
  },
  {
   "cell_type": "code",
   "execution_count": null,
   "metadata": {},
   "outputs": [],
   "source": [
    "out = []\n",
    "\n",
    "for i, (m, par) in enumerate(zip([m01, m02, m03, m04], [PARAMETERS_WOLLEFSBACH_M01, PARAMETERS_WOLLEFSBACH_M02, PARAMETERS_WOLLEFSBACH_M03, PARAMETERS_WOLLEFSBACH_M04])):\n",
    "    m.set_parameters(par)\n",
    "    m.reset_states()    \n",
    "    if i == 1:\n",
    "        m.set_states({'m02_UR_S0': 0.2*m.get_parameters(['m02_UR_Smax'])['m02_UR_Smax']})\n",
    "    elif i == 2:\n",
    "        m.set_states({'m03_UR_S0': 0.2*m.get_parameters(['m03_UR_Smax'])['m03_UR_Smax']})\n",
    "    elif i == 3:\n",
    "        m.set_states({'m04_UR_S0': 0.2*m.get_parameters(['m04_UR_Smax'])['m04_UR_Smax']})\n",
    "    out.append(m.get_output()[0])"
   ]
  },
  {
   "cell_type": "code",
   "execution_count": null,
   "metadata": {},
   "outputs": [],
   "source": [
    "fig, ax = plt.subplots(1, 1)\n",
    "\n",
    "for i, o in enumerate(out):\n",
    "    ax.plot(o, label='Model m0{}'.format(i+1))\n",
    "    \n",
    "ax.plot(Q_obs, **MARKERS_PROP, label='Observed')\n",
    "ax.set_ylabel('Streamflow [mm/d]')\n",
    "ax.set_xlim((START_SIMULATE, len(Q_obs)))\n",
    "ax.grid(True)\n",
    "ax.legend()"
   ]
  },
  {
   "cell_type": "markdown",
   "metadata": {},
   "source": [
    "### Evaluate performance\n",
    "\n",
    "We use Nash-Sutcliffe efficiency. It ranges between $-\\infty$ and 1: 1 means perfect fit, values above 0.70 are considered good.\n",
    "\n",
    "$$NSE(Q_{\\rm{obs}}, Q_{\\rm{sim}})=1-\\frac{\\sum \\left(Q_{\\rm{obs}}-Q_{\\rm{sim}}\\right)^2}{\\sum \\left(Q_{\\rm{obs}}-\\overline{Q_{\\rm{obs}}}\\right)^2}$$"
   ]
  },
  {
   "cell_type": "code",
   "execution_count": null,
   "metadata": {},
   "outputs": [],
   "source": [
    "from utils.metrics import nse\n",
    "\n",
    "for i, o in enumerate(out):\n",
    "    nse_value = nse(obs=Q_obs[START_VISUALIZE:], sim=o[START_VISUALIZE:])\n",
    "    print('NSE of m0{} is {:.3f}'.format(i+1, nse_value))"
   ]
  },
  {
   "cell_type": "code",
   "execution_count": null,
   "metadata": {},
   "outputs": [],
   "source": []
  }
 ],
 "metadata": {
  "kernelspec": {
   "display_name": "just_sfpy_RC",
   "language": "python",
   "name": "just_sfpy_rc"
  },
  "language_info": {
   "codemirror_mode": {
    "name": "ipython",
    "version": 3
   },
   "file_extension": ".py",
   "mimetype": "text/x-python",
   "name": "python",
   "nbconvert_exporter": "python",
   "pygments_lexer": "ipython3",
   "version": "3.7.8"
  }
 },
 "nbformat": 4,
 "nbformat_minor": 4
}
